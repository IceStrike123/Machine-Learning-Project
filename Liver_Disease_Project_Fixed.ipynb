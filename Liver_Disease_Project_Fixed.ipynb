{
  "nbformat": 4,
  "nbformat_minor": 0,
  "metadata": {
    "colab": {
      "name": "Liver_Disease_Project_Fixed.ipynb",
      "provenance": [],
      "collapsed_sections": []
    },
    "kernelspec": {
      "name": "python3",
      "display_name": "Python 3"
    },
    "language_info": {
      "name": "python"
    }
  },
  "cells": [
    {
      "cell_type": "markdown",
      "source": [
        "Worked on by Caleb, Daniel, and Huan"
      ],
      "metadata": {
        "id": "HDsXepBz8NKd"
      }
    },
    {
      "cell_type": "markdown",
      "source": [
        "Data Set Used: https://www.kaggle.com/code/harisyammnv/liver-disease-prediction/data"
      ],
      "metadata": {
        "id": "4LmMoxzB8c_a"
      }
    },
    {
      "cell_type": "code",
      "source": [
        "from google.colab import drive\n",
        "drive.mount('/content/drive')"
      ],
      "metadata": {
        "id": "XRjTF9-XModq",
        "outputId": "1fb7d60f-3987-4a68-d1b3-0803b497ee70",
        "colab": {
          "base_uri": "https://localhost:8080/"
        }
      },
      "execution_count": 122,
      "outputs": [
        {
          "output_type": "stream",
          "name": "stdout",
          "text": [
            "Drive already mounted at /content/drive; to attempt to forcibly remount, call drive.mount(\"/content/drive\", force_remount=True).\n"
          ]
        }
      ]
    },
    {
      "cell_type": "markdown",
      "source": [
        "Goal: To predict whether or not a patient has a liver diease"
      ],
      "metadata": {
        "id": "yXR_SCnk8hdY"
      }
    },
    {
      "cell_type": "code",
      "source": [
        "import pandas as pd\n",
        "import seaborn as sns\n",
        "import numpy as np\n",
        "from sklearn import tree\n",
        "from sklearn.model_selection import train_test_split\n",
        "from sklearn.utils import resample\n",
        "\n",
        "from sklearn.metrics import confusion_matrix\n",
        "from sklearn.metrics import accuracy_score, classification_report, precision_score, recall_score\n",
        "\n",
        "ld_df = pd.read_csv('/content/drive/MyDrive/indian_liver_patient.csv')"
      ],
      "metadata": {
        "id": "nLyIP3SF4MC9"
      },
      "execution_count": 123,
      "outputs": []
    },
    {
      "cell_type": "code",
      "source": [
        "ld_df.shape"
      ],
      "metadata": {
        "id": "GLODzK1gApQ0",
        "outputId": "2a912ee1-001b-4dab-8e7f-4c5627803719",
        "colab": {
          "base_uri": "https://localhost:8080/"
        }
      },
      "execution_count": 124,
      "outputs": [
        {
          "output_type": "execute_result",
          "data": {
            "text/plain": [
              "(583, 11)"
            ]
          },
          "metadata": {},
          "execution_count": 124
        }
      ]
    },
    {
      "cell_type": "code",
      "source": [
        "ld_df.info()"
      ],
      "metadata": {
        "id": "_-aP77884sxT",
        "outputId": "0363e1f1-d736-4e72-8e20-5d15e8ca23ac",
        "colab": {
          "base_uri": "https://localhost:8080/"
        }
      },
      "execution_count": 125,
      "outputs": [
        {
          "output_type": "stream",
          "name": "stdout",
          "text": [
            "<class 'pandas.core.frame.DataFrame'>\n",
            "RangeIndex: 583 entries, 0 to 582\n",
            "Data columns (total 11 columns):\n",
            " #   Column                      Non-Null Count  Dtype  \n",
            "---  ------                      --------------  -----  \n",
            " 0   Age                         583 non-null    int64  \n",
            " 1   Gender                      583 non-null    object \n",
            " 2   Total_Bilirubin             583 non-null    float64\n",
            " 3   Direct_Bilirubin            583 non-null    float64\n",
            " 4   Alkaline_Phosphotase        583 non-null    int64  \n",
            " 5   Alamine_Aminotransferase    583 non-null    int64  \n",
            " 6   Aspartate_Aminotransferase  583 non-null    int64  \n",
            " 7   Total_Protiens              583 non-null    float64\n",
            " 8   Albumin                     583 non-null    float64\n",
            " 9   Albumin_and_Globulin_Ratio  579 non-null    float64\n",
            " 10  Dataset                     583 non-null    int64  \n",
            "dtypes: float64(5), int64(5), object(1)\n",
            "memory usage: 50.2+ KB\n"
          ]
        }
      ]
    },
    {
      "cell_type": "markdown",
      "source": [
        "When looking at the data set, 1 means that they doesn't have any liver disease, 2 means that they does have a liver disease"
      ],
      "metadata": {
        "id": "WbKJcOz68b86"
      }
    },
    {
      "cell_type": "code",
      "source": [
        "ld_df.isnull().sum()"
      ],
      "metadata": {
        "id": "LJPk_WWz5KYq",
        "outputId": "1833ba46-46df-42e3-9bd6-0cff1c94b019",
        "colab": {
          "base_uri": "https://localhost:8080/"
        }
      },
      "execution_count": 126,
      "outputs": [
        {
          "output_type": "execute_result",
          "data": {
            "text/plain": [
              "Age                           0\n",
              "Gender                        0\n",
              "Total_Bilirubin               0\n",
              "Direct_Bilirubin              0\n",
              "Alkaline_Phosphotase          0\n",
              "Alamine_Aminotransferase      0\n",
              "Aspartate_Aminotransferase    0\n",
              "Total_Protiens                0\n",
              "Albumin                       0\n",
              "Albumin_and_Globulin_Ratio    4\n",
              "Dataset                       0\n",
              "dtype: int64"
            ]
          },
          "metadata": {},
          "execution_count": 126
        }
      ]
    },
    {
      "cell_type": "code",
      "source": [
        "ld_df = ld_df.dropna(axis=0)\n",
        "ld_df.info()"
      ],
      "metadata": {
        "colab": {
          "base_uri": "https://localhost:8080/"
        },
        "id": "rQzyql0YzNMc",
        "outputId": "019a9061-b8f6-45a8-e4de-787d4cf8bd13"
      },
      "execution_count": 127,
      "outputs": [
        {
          "output_type": "stream",
          "name": "stdout",
          "text": [
            "<class 'pandas.core.frame.DataFrame'>\n",
            "Int64Index: 579 entries, 0 to 582\n",
            "Data columns (total 11 columns):\n",
            " #   Column                      Non-Null Count  Dtype  \n",
            "---  ------                      --------------  -----  \n",
            " 0   Age                         579 non-null    int64  \n",
            " 1   Gender                      579 non-null    object \n",
            " 2   Total_Bilirubin             579 non-null    float64\n",
            " 3   Direct_Bilirubin            579 non-null    float64\n",
            " 4   Alkaline_Phosphotase        579 non-null    int64  \n",
            " 5   Alamine_Aminotransferase    579 non-null    int64  \n",
            " 6   Aspartate_Aminotransferase  579 non-null    int64  \n",
            " 7   Total_Protiens              579 non-null    float64\n",
            " 8   Albumin                     579 non-null    float64\n",
            " 9   Albumin_and_Globulin_Ratio  579 non-null    float64\n",
            " 10  Dataset                     579 non-null    int64  \n",
            "dtypes: float64(5), int64(5), object(1)\n",
            "memory usage: 54.3+ KB\n"
          ]
        }
      ]
    },
    {
      "cell_type": "code",
      "source": [
        "ld_df = pd.get_dummies(data= ld_df, columns= ['Gender'])"
      ],
      "metadata": {
        "id": "5GGA1JIc_9Zv"
      },
      "execution_count": 128,
      "outputs": []
    },
    {
      "cell_type": "code",
      "source": [
        "sns.heatmap(data= ld_df.corr(), cmap = 'RdPu')"
      ],
      "metadata": {
        "id": "h9Ue2Tsz5fWx",
        "outputId": "4a21fa8e-b460-44cd-cfe3-a5c76f96e337",
        "colab": {
          "base_uri": "https://localhost:8080/",
          "height": 419
        }
      },
      "execution_count": 129,
      "outputs": [
        {
          "output_type": "execute_result",
          "data": {
            "text/plain": [
              "<matplotlib.axes._subplots.AxesSubplot at 0x7f16df7a6fd0>"
            ]
          },
          "metadata": {},
          "execution_count": 129
        },
        {
          "output_type": "display_data",
          "data": {
            "text/plain": [
              "<Figure size 432x288 with 2 Axes>"
            ],
            "image/png": "[encoded data removed]"
          },
          "metadata": {
            "needs_background": "light"
          }
        }
      ]
    },
    {
      "cell_type": "markdown",
      "source": [
        "Looking at the heatmap, there is more correlation between the dataset and Albumin along with Albumin and Globulin Ratio."
      ],
      "metadata": {
        "id": "-0MoYYQO7uAa"
      }
    },
    {
      "cell_type": "code",
      "source": [
        "ld_df['Dataset'].value_counts()"
      ],
      "metadata": {
        "id": "ZBiMitEw8wnW",
        "outputId": "a86e9ff1-88a3-42ff-f28e-ef817338c43f",
        "colab": {
          "base_uri": "https://localhost:8080/"
        }
      },
      "execution_count": 130,
      "outputs": [
        {
          "output_type": "execute_result",
          "data": {
            "text/plain": [
              "1    414\n",
              "2    165\n",
              "Name: Dataset, dtype: int64"
            ]
          },
          "metadata": {},
          "execution_count": 130
        }
      ]
    },
    {
      "cell_type": "markdown",
      "source": [
        "This shows that it is biased towards negative values, so we have to balance the data."
      ],
      "metadata": {
        "id": "V8TdCZ0u82OC"
      }
    },
    {
      "cell_type": "code",
      "source": [
        "ld_minority = ld_df[(ld_df['Dataset']==2)]\n",
        "ld_majority = ld_df[(ld_df['Dataset']==1)]"
      ],
      "metadata": {
        "id": "1hVpAR6Y9F9H"
      },
      "execution_count": 131,
      "outputs": []
    },
    {
      "cell_type": "code",
      "source": [
        "ld_minority_upsampled = resample(ld_minority, replace = True, \n",
        "                                      n_samples = 253, random_state = 42)\n",
        "ld_majority_downsampled = resample(ld_majority, replace = True, \n",
        "                                      n_samples = 253, random_state = 42)\n",
        "ld_upsampled = pd.concat([ld_minority_upsampled, ld_majority_downsampled])\n",
        "ld_upsampled['Dataset'].value_counts()"
      ],
      "metadata": {
        "id": "LU3dVo-C9aCg",
        "outputId": "2fe292a6-77d8-46c4-aba2-f04c7352fc65",
        "colab": {
          "base_uri": "https://localhost:8080/"
        }
      },
      "execution_count": 132,
      "outputs": [
        {
          "output_type": "execute_result",
          "data": {
            "text/plain": [
              "2    253\n",
              "1    253\n",
              "Name: Dataset, dtype: int64"
            ]
          },
          "metadata": {},
          "execution_count": 132
        }
      ]
    },
    {
      "cell_type": "code",
      "source": [
        "ld_upsampled.info()"
      ],
      "metadata": {
        "id": "2jaHQ-IFBprb",
        "outputId": "44b7b524-e22d-41bd-e6e2-db4f87f201c1",
        "colab": {
          "base_uri": "https://localhost:8080/"
        }
      },
      "execution_count": 133,
      "outputs": [
        {
          "output_type": "stream",
          "name": "stdout",
          "text": [
            "<class 'pandas.core.frame.DataFrame'>\n",
            "Int64Index: 506 entries, 366 to 166\n",
            "Data columns (total 12 columns):\n",
            " #   Column                      Non-Null Count  Dtype  \n",
            "---  ------                      --------------  -----  \n",
            " 0   Age                         506 non-null    int64  \n",
            " 1   Total_Bilirubin             506 non-null    float64\n",
            " 2   Direct_Bilirubin            506 non-null    float64\n",
            " 3   Alkaline_Phosphotase        506 non-null    int64  \n",
            " 4   Alamine_Aminotransferase    506 non-null    int64  \n",
            " 5   Aspartate_Aminotransferase  506 non-null    int64  \n",
            " 6   Total_Protiens              506 non-null    float64\n",
            " 7   Albumin                     506 non-null    float64\n",
            " 8   Albumin_and_Globulin_Ratio  506 non-null    float64\n",
            " 9   Dataset                     506 non-null    int64  \n",
            " 10  Gender_Female               506 non-null    uint8  \n",
            " 11  Gender_Male                 506 non-null    uint8  \n",
            "dtypes: float64(5), int64(5), uint8(2)\n",
            "memory usage: 44.5 KB\n"
          ]
        }
      ]
    },
    {
      "cell_type": "code",
      "source": [
        "x= ld_df[['Age', 'Total_Bilirubin', 'Direct_Bilirubin', 'Alkaline_Phosphotase', 'Alamine_Aminotransferase', 'Aspartate_Aminotransferase', 'Total_Protiens', 'Albumin', 'Albumin_and_Globulin_Ratio', 'Gender_Female', 'Gender_Male']]\n",
        "y= ld_df['Dataset']"
      ],
      "metadata": {
        "id": "HONMOCcWB4s_"
      },
      "execution_count": 134,
      "outputs": []
    },
    {
      "cell_type": "code",
      "source": [
        "x_train, x_test, y_train, y_test = train_test_split(x, y, test_size = .2, random_state = 42)"
      ],
      "metadata": {
        "id": "Zwyncv9gC1Cs"
      },
      "execution_count": 135,
      "outputs": []
    },
    {
      "cell_type": "code",
      "source": [
        "clf = tree.DecisionTreeClassifier()\n",
        "clf.fit(x_train, y_train)"
      ],
      "metadata": {
        "id": "yT5dNGrtDIOO",
        "outputId": "fa45b19c-aad7-462a-d4c8-15dd82667781",
        "colab": {
          "base_uri": "https://localhost:8080/"
        }
      },
      "execution_count": 136,
      "outputs": [
        {
          "output_type": "execute_result",
          "data": {
            "text/plain": [
              "DecisionTreeClassifier()"
            ]
          },
          "metadata": {},
          "execution_count": 136
        }
      ]
    },
    {
      "cell_type": "code",
      "source": [
        "pred = clf.predict(x_test)\n",
        "accuracy = accuracy_score(pred, y_test)\n",
        "accuracy"
      ],
      "metadata": {
        "id": "2-r8HtkZK1An",
        "outputId": "56f91e77-a63d-4bb0-c9d7-675143eaeb5a",
        "colab": {
          "base_uri": "https://localhost:8080/"
        }
      },
      "execution_count": 137,
      "outputs": [
        {
          "output_type": "execute_result",
          "data": {
            "text/plain": [
              "0.5862068965517241"
            ]
          },
          "metadata": {},
          "execution_count": 137
        }
      ]
    },
    {
      "cell_type": "code",
      "source": [
        "confusion_matrix1 = confusion_matrix(pred, y_test)\n",
        "confusion_matrix1"
      ],
      "metadata": {
        "id": "qZpoI19-K6Aq",
        "outputId": "5c302dbb-4c80-44b7-c7bb-f58226723d99",
        "colab": {
          "base_uri": "https://localhost:8080/"
        }
      },
      "execution_count": 138,
      "outputs": [
        {
          "output_type": "execute_result",
          "data": {
            "text/plain": [
              "array([[56, 31],\n",
              "       [17, 12]])"
            ]
          },
          "metadata": {},
          "execution_count": 138
        }
      ]
    },
    {
      "cell_type": "code",
      "source": [
        "from sklearn.ensemble import RandomForestClassifier\n",
        "\n",
        "rfc = RandomForestClassifier(n_estimators=100)\n",
        "rfc.fit(x_train, y_train)\n",
        "\n",
        "pred = rfc.predict(x_test)"
      ],
      "metadata": {
        "id": "ucZFAah91gap"
      },
      "execution_count": 139,
      "outputs": []
    },
    {
      "cell_type": "code",
      "source": [
        "accuracy = accuracy_score(pred, y_test)\n",
        "accuracy"
      ],
      "metadata": {
        "colab": {
          "base_uri": "https://localhost:8080/"
        },
        "id": "Q2L8J0yo19m9",
        "outputId": "c5097002-db67-49e4-8eb8-2a1b75c0ec46"
      },
      "execution_count": 140,
      "outputs": [
        {
          "output_type": "execute_result",
          "data": {
            "text/plain": [
              "0.6551724137931034"
            ]
          },
          "metadata": {},
          "execution_count": 140
        }
      ]
    },
    {
      "cell_type": "code",
      "source": [
        "confusion_matrix2 = confusion_matrix(pred, y_test)\n",
        "confusion_matrix2"
      ],
      "metadata": {
        "colab": {
          "base_uri": "https://localhost:8080/"
        },
        "id": "T8PKGsJ02AKB",
        "outputId": "ba27fdfd-83f8-4e13-ee7f-56cda810dd21"
      },
      "execution_count": 141,
      "outputs": [
        {
          "output_type": "execute_result",
          "data": {
            "text/plain": [
              "array([[65, 32],\n",
              "       [ 8, 11]])"
            ]
          },
          "metadata": {},
          "execution_count": 141
        }
      ]
    }
  ]
}